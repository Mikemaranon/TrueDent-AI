{
 "cells": [
  {
   "cell_type": "markdown",
   "id": "631e4249",
   "metadata": {},
   "source": [
    "# GPU CONFIGURATION"
   ]
  },
  {
   "cell_type": "code",
   "execution_count": null,
   "id": "ff21db86",
   "metadata": {},
   "outputs": [],
   "source": [
    "import os\n",
    "os.environ['TF_CPP_MIN_LOG_LEVEL'] = '2'  # Reduce TensorFlow logging\n",
    "import tensorflow as tf\n",
    "from tensorflow import keras\n",
    "\n",
    "# Initialize TensorFlow\n",
    "tf.compat.v1.logging.set_verbosity(tf.compat.v1.logging.ERROR)\n",
    "gpus = tf.config.experimental.list_physical_devices('GPU')\n",
    "if gpus:\n",
    "    try:\n",
    "        for gpu in gpus:\n",
    "            tf.config.experimental.set_memory_growth(gpu, True)\n",
    "    except RuntimeError as e:\n",
    "        print(e)\n",
    "        \n",
    "# Check GPU availability\n",
    "print(\"Num GPUs Available: \", len(tf.config.list_physical_devices('GPU')))\n",
    "\n",
    "# Configure GPU memory growth\n",
    "gpus = tf.config.list_physical_devices('GPU')\n",
    "if gpus:\n",
    "    try:\n",
    "        for gpu in gpus:\n",
    "            tf.config.experimental.set_memory_growth(gpu, True)\n",
    "        logical_gpus = tf.config.list_logical_devices('GPU')\n",
    "        print(len(gpus), \"Physical GPUs,\", len(logical_gpus), \"Logical GPUs\")\n",
    "    except RuntimeError as e:\n",
    "        print(e)\n",
    "        \n",
    "print(\"====================================================================\")     \n",
    "print(\"||                     DRIVERS AND GPU INFO                       ||\")       \n",
    "print(\"====================================================================\")      \n",
    "print(\"\")\n",
    "\n",
    "gpu_info = !nvidia-smi\n",
    "gpu_info = '\\n'.join(gpu_info)\n",
    "if gpu_info.find('failed') >= 0:\n",
    "  print('Not connected to a GPU')\n",
    "else:\n",
    "  print(gpu_info)"
   ]
  },
  {
   "cell_type": "markdown",
   "id": "43d9cdf5",
   "metadata": {},
   "source": [
    "# SYSTEM PARAMETERS"
   ]
  },
  {
   "cell_type": "code",
   "execution_count": null,
   "id": "f9efe657",
   "metadata": {},
   "outputs": [],
   "source": [
    "import psutil\n",
    "\n",
    "def get_ram_usage():\n",
    "    return psutil.virtual_memory().used / (1024 ** 3) \n",
    "\n",
    "ram_usage_gb = get_ram_usage()\n",
    "print(f\"RAM Usage: {ram_usage_gb:.2f} GB\")\n",
    "\n",
    "# Get memory usage information\n",
    "memory = psutil.virtual_memory()\n",
    "\n",
    "# Total RAM in bytes\n",
    "total_memory = memory.total\n",
    "\n",
    "# RAM used in bytes\n",
    "used_memory = memory.used\n",
    "\n",
    "# RAM free in bytes\n",
    "free_memory = memory.available\n",
    "\n",
    "# RAM usage percentage\n",
    "memory_percentage = memory.percent\n",
    "\n",
    "print(f\"Total Memory: {total_memory / (1024 ** 3)} GB\")\n",
    "print(f\"Used Memory: {used_memory / (1024 ** 3)} GB\")\n",
    "print(f\"Free Memory: {free_memory / (1024 ** 3)} GB\")\n",
    "print(f\"Memory Usage: {memory_percentage}%\")\n",
    "\n",
    "print(\"\")\n",
    "print(\"====================================================================\")\n",
    "print(\"||                     SYSTEM INFO                                 ||\")\n",
    "print(\"====================================================================\")\n",
    "print(\"\")\n",
    "\n",
    "from psutil import virtual_memory\n",
    "ram_gb = virtual_memory().total / 1e9\n",
    "print('Your runtime has {:.1f} gigabytes of available RAM\\n'.format(ram_gb))\n",
    "\n",
    "if ram_gb < 20:\n",
    "  print('Not using a high-RAM runtime')\n",
    "else:\n",
    "  print('You are using a high-RAM runtime!')"
   ]
  },
  {
   "cell_type": "markdown",
   "id": "0b74bbb1",
   "metadata": {},
   "source": [
    "# VERIFICATION"
   ]
  },
  {
   "cell_type": "code",
   "execution_count": null,
   "id": "133661ee",
   "metadata": {},
   "outputs": [],
   "source": [
    "import os\n",
    "HOME = os.getcwd()\n",
    "print(\"Working at: \", HOME)"
   ]
  },
  {
   "cell_type": "code",
   "execution_count": null,
   "id": "5bfd66ce",
   "metadata": {},
   "outputs": [],
   "source": [
    "from IPython import display\n",
    "display.clear_output()\n",
    "\n",
    "import ultralytics\n",
    "ultralytics.checks()"
   ]
  },
  {
   "cell_type": "markdown",
   "id": "0f0e537f",
   "metadata": {},
   "source": [
    "# 1. Creation of the first model"
   ]
  },
  {
   "cell_type": "code",
   "execution_count": null,
   "id": "d3f7d681",
   "metadata": {},
   "outputs": [],
   "source": [
    "# Libraries for phase 1\n",
    "\n",
    "from ultralytics import YOLO\n",
    "from IPython.display import display, Image\n",
    "\n",
    "# 1.1\n",
    "import matplotlib.pyplot as plt\n",
    "import numpy as np\n",
    "import shutil\n",
    "\n",
    "# 1.2\n",
    "import os\n",
    "from skimage import exposure\n",
    "from PIL import Image"
   ]
  },
  {
   "cell_type": "code",
   "execution_count": null,
   "id": "7aaa9785",
   "metadata": {},
   "outputs": [],
   "source": [
    "model = YOLO(\"yolov8m.pt\")\n",
    "\n",
    "data_yaml_path = 'data/yolo_train_dataset/data.yaml'\n",
    "\n",
    "results = model.train(\n",
    "    data=data_yaml_path,\n",
    "    epochs=150,\n",
    "    imgsz=960,\n",
    "    batch=16,\n",
    "    name='TrueDentYOLOv8m',\n",
    "    lr0=0.01, lrf=0.01, warmup_epochs=3, patience=50,\n",
    "    device=0,  # 0 for GPU, -1 for CPU\n",
    ")\n",
    "\n",
    "metrics = model.val()\n",
    "print(metrics)"
   ]
  },
  {
   "cell_type": "code",
   "execution_count": null,
   "id": "d7cbd5eb",
   "metadata": {},
   "outputs": [],
   "source": [
    "pt_path = '/home/mike/Desktop/codes/projects/AI_PRJ/TrueDent-AI/runs/detect/TrueDentYOLOv8m4/weights/best.pt'\n",
    "\n",
    "# Carpeta destino y nombre final del .onnx exportado\n",
    "export_dir = 'final_models'\n",
    "export_name = 'TrueDent_v1.onnx'\n",
    "\n",
    "# Crear carpeta si no existe\n",
    "os.makedirs(export_dir, exist_ok=True)\n",
    "\n",
    "# Cargar el modelo\n",
    "model = YOLO(pt_path)\n",
    "\n",
    "# Exportar a ONNX (se guarda al lado del .pt por defecto)\n",
    "exported_model_path = model.export(format='onnx')\n",
    "\n",
    "# Mover el archivo exportado a la ruta deseada\n",
    "onnx_generated = os.path.splitext(pt_path)[0] + '.onnx'\n",
    "onnx_target_path = os.path.join(export_dir, export_name)\n",
    "\n",
    "# Verificamos que se haya creado\n",
    "if os.path.exists(onnx_generated):\n",
    "    shutil.move(onnx_generated, onnx_target_path)\n",
    "    print(f\"✅ Modelo exportado a: {onnx_target_path}\")\n",
    "else:\n",
    "    print(\"❌ No se encontró el archivo .onnx generado.\")\n"
   ]
  }
 ],
 "metadata": {
  "kernelspec": {
   "display_name": "virt",
   "language": "python",
   "name": "python3"
  },
  "language_info": {
   "codemirror_mode": {
    "name": "ipython",
    "version": 3
   },
   "file_extension": ".py",
   "mimetype": "text/x-python",
   "name": "python",
   "nbconvert_exporter": "python",
   "pygments_lexer": "ipython3",
   "version": "3.11.2"
  }
 },
 "nbformat": 4,
 "nbformat_minor": 5
}
